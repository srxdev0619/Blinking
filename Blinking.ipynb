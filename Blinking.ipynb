{
 "cells": [
  {
   "cell_type": "code",
   "execution_count": 29,
   "metadata": {
    "collapsed": true
   },
   "outputs": [],
   "source": [
    "from __future__ import division\n",
    "from __future__ import absolute_import\n",
    "from __future__ import print_function\n",
    "\n",
    "import numpy as np\n",
    "import scipy\n",
    "import matplotlib.pyplot as plt\n",
    "from sklearn.linear_model import LogisticRegression\n",
    "from sklearn.svm import SVC\n",
    "from sklearn.ensemble import AdaBoostClassifier, GradientBoostingClassifier\n",
    "from sklearn.model_selection import GridSearchCV\n",
    "%matplotlib inline"
   ]
  },
  {
   "cell_type": "code",
   "execution_count": 7,
   "metadata": {
    "collapsed": true
   },
   "outputs": [],
   "source": [
    "X_50_open = np.load('./Np_files/open_50.npy')\n",
    "X_25_open = np.load('./Np_files/open_25.npy')\n",
    "X_13_open = np.load('./Np_files/open_25.npy')\n",
    "open_target = np.ones(X_50_open.shape[0])\n",
    "\n",
    "X_50_close = np.load('./Np_files/close_50.npy')\n",
    "X_25_close = np.load('./Np_files/close_25.npy')\n",
    "X_13_close = np.load('./Np_files/close_25.npy')\n",
    "close_target = np.zeros(X_50_close.shape[0])\n",
    "\n",
    "targets = np.concatenate((open_target, close_target))\n",
    "\n",
    "X_50 = np.concatenate((X_50_open, X_50_close))\n",
    "X_25 = np.concatenate((X_25_open, X_25_close))\n",
    "X_13 = np.concatenate((X_13_open, X_13_close))"
   ]
  },
  {
   "cell_type": "code",
   "execution_count": 8,
   "metadata": {
    "collapsed": true
   },
   "outputs": [],
   "source": [
    "from sklearn.model_selection import train_test_split\n",
    "\n",
    "X_50_train, X_50_test, y_50_train, y_50_test = train_test_split(X_50, targets)\n",
    "X_25_train, X_25_test, y_25_train, y_25_test = train_test_split(X_25, targets)\n",
    "X_13_train, X_13_test, y_13_train, y_13_test = train_test_split(X_13, targets)"
   ]
  },
  {
   "cell_type": "markdown",
   "metadata": {},
   "source": [
    "# Logistic Regression"
   ]
  },
  {
   "cell_type": "code",
   "execution_count": 14,
   "metadata": {
    "collapsed": false
   },
   "outputs": [
    {
     "name": "stdout",
     "output_type": "stream",
     "text": [
      "0.777594728171\n"
     ]
    }
   ],
   "source": [
    "clf = LogisticRegression()\n",
    "params = {'penalty':['l1', 'l2'], 'C':np.arange(1,10)}\n",
    "cv = GridSearchCV(clf, params)\n",
    "cv.fit(X_50_train, y_50_train)\n",
    "best_clf = cv.best_estimator_\n",
    "print('Final Accuracy: ',best_clf.score(X_50_test, y_50_test))"
   ]
  },
  {
   "cell_type": "code",
   "execution_count": 15,
   "metadata": {
    "collapsed": false
   },
   "outputs": [
    {
     "name": "stdout",
     "output_type": "stream",
     "text": [
      "0.831960461285\n"
     ]
    }
   ],
   "source": [
    "clf = LogisticRegression()\n",
    "params = {'penalty':['l1', 'l2'], 'C':np.arange(1,10)}\n",
    "cv = GridSearchCV(clf, params)\n",
    "cv.fit(X_25_train, y_25_train)\n",
    "best_clf = cv.best_estimator_\n",
    "print('Final Accuracy: ',best_clf.score(X_25_test, y_25_test))"
   ]
  },
  {
   "cell_type": "code",
   "execution_count": 16,
   "metadata": {
    "collapsed": false
   },
   "outputs": [
    {
     "name": "stdout",
     "output_type": "stream",
     "text": [
      "0.846787479407\n"
     ]
    }
   ],
   "source": [
    "clf = LogisticRegression()\n",
    "params = {'penalty':['l1', 'l2'], 'C':np.arange(1,10)}\n",
    "cv = GridSearchCV(clf, params)\n",
    "cv.fit(X_13_train, y_13_train)\n",
    "best_clf = cv.best_estimator_\n",
    "print('Final Accuracy: ',best_clf.score(X_13_test, y_13_test))"
   ]
  },
  {
   "cell_type": "markdown",
   "metadata": {},
   "source": [
    "# Adaboost"
   ]
  },
  {
   "cell_type": "code",
   "execution_count": 22,
   "metadata": {
    "collapsed": false
   },
   "outputs": [
    {
     "name": "stdout",
     "output_type": "stream",
     "text": [
      "0.771004942339\n"
     ]
    }
   ],
   "source": [
    "clf = AdaBoostClassifier()\n",
    "params = {'n_estimators':np.arange(50,100,10)}\n",
    "cv = GridSearchCV(clf, params)\n",
    "cv.fit(X_50_train, y_50_train)\n",
    "best_clf = cv.best_estimator_\n",
    "print('Final Accuracy: ',best_clf.score(X_50_test, y_50_test))"
   ]
  },
  {
   "cell_type": "code",
   "execution_count": 23,
   "metadata": {
    "collapsed": false
   },
   "outputs": [
    {
     "name": "stdout",
     "output_type": "stream",
     "text": [
      "0.812191103789\n"
     ]
    }
   ],
   "source": [
    "clf = AdaBoostClassifier()\n",
    "params = {'n_estimators':np.arange(50,100,10)}\n",
    "cv = GridSearchCV(clf, params)\n",
    "cv.fit(X_25_train, y_25_train)\n",
    "best_clf = cv.best_estimator_\n",
    "print('Final Accuracy: ',best_clf.score(X_25_test, y_25_test))"
   ]
  },
  {
   "cell_type": "code",
   "execution_count": 24,
   "metadata": {
    "collapsed": false
   },
   "outputs": [
    {
     "name": "stdout",
     "output_type": "stream",
     "text": [
      "Final Accuracy:  0.823723228995\n"
     ]
    }
   ],
   "source": [
    "clf = AdaBoostClassifier()\n",
    "params = {'n_estimators':np.arange(50,100,10)}\n",
    "cv = GridSearchCV(clf, params)\n",
    "cv.fit(X_13_train, y_13_train)\n",
    "best_clf = cv.best_estimator_\n",
    "print('Final Accuracy: ',best_clf.score(X_13_test, y_13_test))"
   ]
  },
  {
   "cell_type": "markdown",
   "metadata": {},
   "source": [
    "# SVM"
   ]
  },
  {
   "cell_type": "code",
   "execution_count": 26,
   "metadata": {
    "collapsed": false
   },
   "outputs": [
    {
     "name": "stdout",
     "output_type": "stream",
     "text": [
      "Final Accuracy:  0.528830313015\n"
     ]
    }
   ],
   "source": [
    "clf = SVC()\n",
    "params = {'C':np.arange(1,2)}#, 'kernel':['rbf', 'poly', 'sigmoid', 'linear']}\n",
    "cv = GridSearchCV(clf, params)\n",
    "cv.fit(X_50_train, y_50_train)\n",
    "best_clf = cv.best_estimator_\n",
    "print('Final Accuracy: ',best_clf.score(X_50_test, y_50_test))"
   ]
  },
  {
   "cell_type": "code",
   "execution_count": 27,
   "metadata": {
    "collapsed": false
   },
   "outputs": [
    {
     "name": "stdout",
     "output_type": "stream",
     "text": [
      "Final Accuracy:  0.494233937397\n"
     ]
    }
   ],
   "source": [
    "clf = SVC()\n",
    "params = {'C':np.arange(1,5)}#, 'kernel':['rbf', 'poly', 'sigmoid', 'linear']}\n",
    "cv = GridSearchCV(clf, params)\n",
    "cv.fit(X_25_train, y_25_train)\n",
    "best_clf = cv.best_estimator_\n",
    "print('Final Accuracy: ',best_clf.score(X_25_test, y_25_test))"
   ]
  },
  {
   "cell_type": "code",
   "execution_count": 28,
   "metadata": {
    "collapsed": false
   },
   "outputs": [
    {
     "name": "stdout",
     "output_type": "stream",
     "text": [
      "Final Accuracy:  0.510708401977\n"
     ]
    }
   ],
   "source": [
    "clf = SVC()\n",
    "params = {'C':np.arange(1,5)}#, 'kernel':['rbf', 'poly', 'sigmoid', 'linear']}\n",
    "cv = GridSearchCV(clf, params)\n",
    "cv.fit(X_13_train, y_13_train)\n",
    "best_clf = cv.best_estimator_\n",
    "print('Final Accuracy: ',best_clf.score(X_13_test, y_13_test))"
   ]
  },
  {
   "cell_type": "markdown",
   "metadata": {},
   "source": [
    "# GradientBoosting"
   ]
  },
  {
   "cell_type": "code",
   "execution_count": 31,
   "metadata": {
    "collapsed": false
   },
   "outputs": [
    {
     "name": "stdout",
     "output_type": "stream",
     "text": [
      "Final Accuracy:  0.850082372323\n"
     ]
    }
   ],
   "source": [
    "clf = GradientBoostingClassifier()\n",
    "params = {'n_estimators':[100]}#, 'kernel':['rbf', 'poly', 'sigmoid', 'linear']}\n",
    "cv = GridSearchCV(clf, params)\n",
    "cv.fit(X_50_train, y_50_train)\n",
    "best_clf = cv.best_estimator_\n",
    "print('Final Accuracy: ',best_clf.score(X_50_test, y_50_test))"
   ]
  },
  {
   "cell_type": "code",
   "execution_count": 32,
   "metadata": {
    "collapsed": false
   },
   "outputs": [
    {
     "name": "stdout",
     "output_type": "stream",
     "text": [
      "Final Accuracy:  0.859967051071\n"
     ]
    }
   ],
   "source": [
    "clf = GradientBoostingClassifier()\n",
    "params = {'n_estimators':[100]}#, 'kernel':['rbf', 'poly', 'sigmoid', 'linear']}\n",
    "cv = GridSearchCV(clf, params)\n",
    "cv.fit(X_25_train, y_25_train)\n",
    "best_clf = cv.best_estimator_\n",
    "print('Final Accuracy: ',best_clf.score(X_25_test, y_25_test))"
   ]
  },
  {
   "cell_type": "code",
   "execution_count": null,
   "metadata": {
    "collapsed": false
   },
   "outputs": [],
   "source": [
    "clf = GradientBoostingClassifier()\n",
    "params = {'n_estimators':[200]}#, 'kernel':['rbf', 'poly', 'sigmoid', 'linear']}\n",
    "cv = GridSearchCV(clf, params)\n",
    "cv.fit(X_13_train, y_13_train)\n",
    "best_clf = cv.best_estimator_\n",
    "print('Final Accuracy: ',best_clf.score(X_13_test, y_13_test))"
   ]
  },
  {
   "cell_type": "code",
   "execution_count": null,
   "metadata": {
    "collapsed": true
   },
   "outputs": [],
   "source": []
  }
 ],
 "metadata": {
  "anaconda-cloud": {},
  "kernelspec": {
   "display_name": "Python [conda root]",
   "language": "python",
   "name": "conda-root-py"
  },
  "language_info": {
   "codemirror_mode": {
    "name": "ipython",
    "version": 3
   },
   "file_extension": ".py",
   "mimetype": "text/x-python",
   "name": "python",
   "nbconvert_exporter": "python",
   "pygments_lexer": "ipython3",
   "version": "3.5.2"
  }
 },
 "nbformat": 4,
 "nbformat_minor": 1
}
