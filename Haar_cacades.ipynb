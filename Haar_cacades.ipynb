{
 "cells": [
  {
   "cell_type": "code",
   "execution_count": 24,
   "metadata": {
    "collapsed": false
   },
   "outputs": [
    {
     "name": "stdout",
     "output_type": "stream",
     "text": [
      "3.2.0\n"
     ]
    }
   ],
   "source": [
    "import cv2\n",
    "import numpy as np\n",
    "import os\n",
    "import argparse\n",
    "import time\n",
    "import psutil\n",
    "print cv2.__version__\n",
    "print os.getcwd()\n",
    "#os.chdir('dataset_B_FacialImages/test')\n",
    "#os.chdir('Haar cascad')"
   ]
  },
  {
   "cell_type": "code",
   "execution_count": 4,
   "metadata": {
    "collapsed": false
   },
   "outputs": [],
   "source": [
    "def get_faces(filename):\n",
    "    \n",
    "    \"\"\"\n",
    "    Returns image that is more likely the face with at least one detected eye.\n",
    "\n",
    "    Keyword arguments:\n",
    "    filename -- input image\n",
    "    \n",
    "    Preinstalled functions:\n",
    "    CascadeClassifier -- Class CascadeClassifier Cascade classifier class for object detection.\n",
    "    DetectMultiScale -- Detects objects of different sizes in the input image. \n",
    "                        The detected objects are returned as a list of rectangles.\n",
    "    \n",
    "    \"\"\"\n",
    "    #downoload the cascades\n",
    "    face_cascade = cv2.CascadeClassifier('D:/Programs/opencv/sources/data/haarcascades/haarcascade_frontalface_alt.xml')\n",
    "    eye_cascade = cv2.CascadeClassifier('D:/Programs/opencv/sources/data/haarcascades/haarcascade_eye.xml')\n",
    "    #downoload the image\n",
    "    img = cv2.imread(filename)\n",
    "    #put it into grayscale\n",
    "    gray = cv2.cvtColor(img, cv2.COLOR_BGR2GRAY)\n",
    "    #determine if it is more likely the face\n",
    "    faces = face_cascade.detectMultiScale(gray, 1.2, 5)\n",
    "\n",
    "    face_images = []\n",
    "    \n",
    "    # serching for at least one open eye in the face\n",
    "    for (x, y, w, h) in faces:\n",
    "        roi_gray = gray[y:y + h, x:x + w]\n",
    "        roi_color = img[y:y + h, x:x + w]\n",
    "        \n",
    "        # determine if the region is more likely an open eye\n",
    "        eyes = eye_cascade.detectMultiScale(roi_gray)\n",
    "        \n",
    "        # draw the rectangle in eye detection place\n",
    "        for (ex,ey,ew,eh) in eyes:\n",
    "            cv2.rectangle(roi_color,(ex,ey),(ex+ew,ey+eh),(0,255,0),2)\n",
    "       \n",
    "        # proceed until at least one eye will be detemined\n",
    "        if len(eyes) >= 1:\n",
    "            face_images.append(roi_color)\n",
    "\n",
    "    return face_images\n",
    "\n",
    "def scan_faces(root_dir, output_dir):\n",
    "    \n",
    "    \"\"\"\n",
    "    Returns the number images num_images in the scanned set and amount of the detected faces as  num_faces.\n",
    "\n",
    "    Keyword arguments:\n",
    "    root_dir -- directory with images\n",
    "    output_dir -- detected objects output directory\n",
    "    \n",
    "    \"\"\"\n",
    "    \n",
    "    image_extensions = [\"jpg\", \"png\"]\n",
    "    num_faces = 0\n",
    "    num_images = 0\n",
    "\n",
    "    #print(\"Images directory {}\".format(root_dir))\n",
    "    #print(\"Output directory {}\".format(output_dir))\n",
    "    #print(\"-\" * 20)\n",
    "\n",
    "    for dir_name, subdir_list, file_list in os.walk(root_dir):\n",
    "        #print('Scanning directory: %s' % dir_name)\n",
    "        for filename in file_list:\n",
    "            extension = os.path.splitext(filename)[1][1:]\n",
    "            \n",
    "            if extension in image_extensions:\n",
    "                faces = get_faces(os.path.join(dir_name, filename))\n",
    "                num_images += 1\n",
    "                # put image in output directory\n",
    "                for face in faces:\n",
    "                    face_filename = os.path.join(output_dir, \"face{}.png\".format(num_faces))\n",
    "                    #cv2.imwrite(face_filename, face)\n",
    "                    #print(\"\\tWrote {} extracted from {}\".format(face_filename, filename))\n",
    "                    num_faces += 1\n",
    "\n",
    "    print(\"-\" * 20)\n",
    "    print(\"Total number of images: {}\".format(num_images))\n",
    "    print(\"Total number of faces: {}\".format(num_faces))"
   ]
  },
  {
   "cell_type": "code",
   "execution_count": 14,
   "metadata": {
    "collapsed": true
   },
   "outputs": [],
   "source": [
    "def get_eyes(filename):\n",
    "     \n",
    "    \"\"\"\n",
    "    Returns image that contains at least one pair of eyes.\n",
    "\n",
    "    Keyword arguments:\n",
    "    filename -- input image\n",
    "    \n",
    "    Preinstalled functions:\n",
    "    CascadeClassifier -- Class CascadeClassifier Cascade classifier class for object detection.\n",
    "    DetectMultiScale -- Detects objects of different sizes in the input image. \n",
    "                        The detected objects are returned as a list of rectangles.\n",
    "    \n",
    "    \"\"\"\n",
    "    eye_cascade = cv2.CascadeClassifier('D:/Programs/opencv/sources/data/haarcascades/haarcascade_eye.xml')\n",
    "    img = cv2.imread(filename)\n",
    "    gray = cv2.cvtColor(img, cv2.COLOR_BGR2GRAY)\n",
    "    eyes = eye_cascade.detectMultiScale(gray)\n",
    "\n",
    "    face_images = []\n",
    "\n",
    "    if len(eyes) >= 1:\n",
    "            face_images.append(img)\n",
    "\n",
    "    return face_images\n",
    "\n",
    "def scan_eyes(root_dir, output_dir):\n",
    "     \n",
    "    \"\"\"\n",
    "    Returns the number images num_images in the scanned set and amount of the detected eyes as num_faces.\n",
    "\n",
    "    Keyword arguments:\n",
    "    root_dir -- directory with images\n",
    "    output_dir -- detected objects output directory\n",
    "    \n",
    "    \"\"\"\n",
    "    image_extensions = [\"jpg\", \"png\"]\n",
    "    num_faces = 0\n",
    "    num_images = 0\n",
    "\n",
    "    #print(\"Images directory {}\".format(root_dir))\n",
    "    #print(\"Output directory {}\".format(output_dir))\n",
    "    #print(\"-\" * 20)\n",
    "\n",
    "    for dir_name, subdir_list, file_list in os.walk(root_dir):\n",
    "        #print('Scanning directory: %s' % dir_name)\n",
    "        for filename in file_list:\n",
    "            extension = os.path.splitext(filename)[1][1:]\n",
    "            if extension in image_extensions:\n",
    "                faces = get_eyes(os.path.join(dir_name, filename))\n",
    "                num_images += 1\n",
    "\n",
    "                for face in faces:\n",
    "                    face_filename = os.path.join(output_dir, \"face{}.png\".format(num_faces))\n",
    "                    #cv2.imwrite(face_filename, face)\n",
    "                    #print(\"\\tWrote {} extracted from {}\".format(face_filename, filename))\n",
    "                    num_faces += 1\n",
    "    m=(num_faces/num_images)*100\n",
    "\n",
    "    print(\"-\" * 20)\n",
    "    print(\"Total number of images: {}\".format(num_images))\n",
    "    print(\"Total number of faces: {}\".format(num_faces))\n",
    "    print 'Detection accuracy:', m"
   ]
  },
  {
   "cell_type": "code",
   "execution_count": 25,
   "metadata": {
    "collapsed": true
   },
   "outputs": [],
   "source": [
    "def get_sep_eye(filename):\n",
    "     \n",
    "    \"\"\"\n",
    "    Returns image that contains at least one left or rigth eye.\n",
    "\n",
    "    Keyword arguments:\n",
    "    filename -- input image\n",
    "    \n",
    "    Preinstalled functions:\n",
    "    CascadeClassifier -- Class CascadeClassifier Cascade classifier class for object detection.\n",
    "    DetectMultiScale -- Detects objects of different sizes in the input image. \n",
    "                        The detected objects are returned as a list of rectangles.\n",
    "    \n",
    "    \"\"\"\n",
    "    riht_eye_cascade = cv2.CascadeClassifier('D:/Programs/opencv/sources/data/haarcascades/haarcascade_righteye_2splits.xml')\n",
    "    left_eye_cascade = cv2.CascadeClassifier('D:/Programs/opencv/sources/data/haarcascades/haarcascade_lefteye_2splits.xml')\n",
    "    img = cv2.imread(filename)\n",
    "    gray = cv2.cvtColor(img, cv2.COLOR_BGR2GRAY)\n",
    "    left_eye = left_eye_cascade.detectMultiScale(gray)\n",
    "    right_eye = left_eye_cascade.detectMultiScale(gray)\n",
    "\n",
    "    face_images = []\n",
    "\n",
    "    if len(right_eye) or len(left_eye) >= 1:\n",
    "            face_images.append(img)\n",
    "\n",
    "    return face_images\n",
    "\n",
    "def scan_eye(root_dir, output_dir):\n",
    "     \n",
    "    \"\"\"\n",
    "    Returns the number images num_images in the scanned set and amount of the detected left or rigth eyes as num_faces.\n",
    "\n",
    "    Keyword arguments:\n",
    "    root_dir -- directory with images\n",
    "    output_dir -- detected objects output directory\n",
    "    \n",
    "    \"\"\"\n",
    "    image_extensions = [\"jpg\", \"png\"]\n",
    "    num_faces = 0\n",
    "    num_images = 0\n",
    "\n",
    "    #print(\"Images directory {}\".format(root_dir))\n",
    "    #print(\"Output directory {}\".format(output_dir))\n",
    "    #print(\"-\" * 20)\n",
    "\n",
    "    for dir_name, subdir_list, file_list in os.walk(root_dir):\n",
    "        #print('Scanning directory: %s' % dir_name)\n",
    "        for filename in file_list:\n",
    "            extension = os.path.splitext(filename)[1][1:]\n",
    "            if extension in image_extensions:\n",
    "                faces = get_sep_eye(os.path.join(dir_name, filename))\n",
    "                num_images += 1\n",
    "\n",
    "                for face in faces:\n",
    "                    face_filename = os.path.join(output_dir, \"face{}.png\".format(num_faces))\n",
    "                    #cv2.imwrite(face_filename, face)\n",
    "                    #print(\"\\tWrote {} extracted from {}\".format(face_filename, filename))\n",
    "                    num_faces += 1\n",
    "                    process = psutil.Process(os.getpid())\n",
    "                    print(process.memory_info().rss)\n",
    "    \n",
    "    m=(num_faces/num_images)*100\n",
    "    \n",
    "    print(\"-\" * 20)\n",
    "    print(\"Total number of images: {}\".format(num_images))\n",
    "    print(\"Total number of faces: {}\".format(num_faces))\n",
    "    print 'Detection accuracy:', m\n"
   ]
  },
  {
   "cell_type": "code",
   "execution_count": 34,
   "metadata": {
    "collapsed": false
   },
   "outputs": [
    {
     "name": "stdout",
     "output_type": "stream",
     "text": [
      "--------------------\n",
      "Total number of images: 1192\n",
      "Total number of faces: 295\n",
      "Time elapsed for set of images: 59.9464058873\n"
     ]
    }
   ],
   "source": [
    "# testing the Fase and eyes detection cascade on Closed eyes dataset\n",
    "time_start = time.clock()\n",
    "scan_faces('dataset_B_FacialImages/positive_images', 'dataset_B_FacialImages/result')\n",
    "time_elapsed = (time.clock() - time_start)\n",
    "print 'Time elapsed for set of images:', time_elapsed"
   ]
  },
  {
   "cell_type": "code",
   "execution_count": 35,
   "metadata": {
    "collapsed": false
   },
   "outputs": [
    {
     "name": "stdout",
     "output_type": "stream",
     "text": [
      "--------------------\n",
      "Total number of images: 1231\n",
      "Total number of faces: 841\n",
      "Time elapsed for set of images: 63.1660862026\n"
     ]
    }
   ],
   "source": [
    "# testing the Fase and eyes detection cascade  on Open eyes dataset\n",
    "time_start = time.clock()\n",
    "scan_faces('dataset_B_FacialImages/negative_images', 'dataset_B_FacialImages/result')\n",
    "time_elapsed = (time.clock() - time_start)\n",
    "print 'Time elapsed for set of images:', time_elapsed"
   ]
  },
  {
   "cell_type": "code",
   "execution_count": 13,
   "metadata": {
    "collapsed": false
   },
   "outputs": [
    {
     "name": "stdout",
     "output_type": "stream",
     "text": [
      "--------------------\n",
      "Total number of images: 1231\n",
      "Total number of faces: 1121\n",
      "Detection accuracy: 0 %\n",
      "Time elapsed for set of images: 20.06499787\n"
     ]
    }
   ],
   "source": [
    "# testing the Rigth and Left eye Separate eye detection cascade on Open eyes dataset\n",
    "time_start = time.clock()\n",
    "scan_eyes('dataset_B_FacialImages/negative_images', 'dataset_B_FacialImages/result')\n",
    "time_elapsed = (time.clock() - time_start)\n",
    "print 'Time elapsed for set of images:', time_elapsed"
   ]
  },
  {
   "cell_type": "code",
   "execution_count": 16,
   "metadata": {
    "collapsed": false
   },
   "outputs": [
    {
     "name": "stdout",
     "output_type": "stream",
     "text": [
      "--------------------\n",
      "Total number of images: 1192\n",
      "Total number of faces: 572\n",
      "Detection accuracy: 0\n",
      "Time elapsed for set of images: 18.5408018992\n"
     ]
    }
   ],
   "source": [
    "# testing the Rigth and Left eye Separate eye detection cascade\n",
    "time_start = time.clock()\n",
    "scan_eyes('dataset_B_FacialImages/positive_images', 'dataset_B_FacialImages/result')\n",
    "time_elapsed = (time.clock() - time_start)\n",
    "print 'Time elapsed for set of images:', time_elapsed"
   ]
  },
  {
   "cell_type": "code",
   "execution_count": 33,
   "metadata": {
    "collapsed": false
   },
   "outputs": [
    {
     "name": "stdout",
     "output_type": "stream",
     "text": [
      "--------------------\n",
      "Total number of images: 1231\n",
      "Total number of faces: 956\n",
      "Detection accuracy: 0\n",
      "Time elapsed for set of images: 41.9214307658\n"
     ]
    }
   ],
   "source": [
    "# testing the Eyes detection cascade on Open eyes dataset\n",
    "time_start = time.clock()\n",
    "scan_eye('dataset_B_FacialImages/negative_images', 'dataset_B_FacialImages/result')\n",
    "time_elapsed = (time.clock() - time_start)\n",
    "print 'Time elapsed for set of images:', time_elapsed"
   ]
  },
  {
   "cell_type": "code",
   "execution_count": 32,
   "metadata": {
    "collapsed": false
   },
   "outputs": [
    {
     "name": "stdout",
     "output_type": "stream",
     "text": [
      "--------------------\n",
      "Total number of images: 1192\n",
      "Total number of faces: 113\n",
      "Detection accuracy: 0\n",
      "Time elapsed for set of images: 37.6022178554\n"
     ]
    }
   ],
   "source": [
    "# testing the Eyes detection cascade on Closed eyes dataset\n",
    "time_start = time.clock()\n",
    "scan_eye('dataset_B_FacialImages/positive_images', 'dataset_B_FacialImages/result')\n",
    "time_elapsed = (time.clock() - time_start)\n",
    "print 'Time elapsed for set of images:', time_elapsed"
   ]
  },
  {
   "cell_type": "code",
   "execution_count": 28,
   "metadata": {
    "collapsed": false
   },
   "outputs": [
    {
     "name": "stdout",
     "output_type": "stream",
     "text": [
      "--------------------\n",
      "Total number of images: 1231\n",
      "Total number of faces: 956\n",
      "Detection accuracy: 0\n",
      "Time elapsed for set of images: 37.2748570845\n"
     ]
    }
   ],
   "source": [
    "# testing the Eyes with glasses detection cascade on Open eyes dataset\n",
    "time_start = time.clock()\n",
    "scan_eye('dataset_B_FacialImages/negative_images', 'dataset_B_FacialImages/result')\n",
    "time_elapsed = (time.clock() - time_start)\n",
    "print 'Time elapsed for set of images:', time_elapsed"
   ]
  },
  {
   "cell_type": "code",
   "execution_count": 31,
   "metadata": {
    "collapsed": false
   },
   "outputs": [
    {
     "name": "stdout",
     "output_type": "stream",
     "text": [
      "--------------------\n",
      "Total number of images: 1192\n",
      "Total number of faces: 113\n",
      "Detection accuracy: 0\n",
      "Time elapsed for set of images: 37.6930000782\n"
     ]
    }
   ],
   "source": [
    "# testing the Eyes with glasses detection cascade on Closed eyes dataset\n",
    "time_start = time.time()\n",
    "scan_eye('dataset_B_FacialImages/positive_images', 'dataset_B_FacialImages/result')\n",
    "time_elapsed = (time.time() - time_start)\n",
    "print 'Time elapsed for set of images:', time_elapsed"
   ]
  }
 ],
 "metadata": {
  "anaconda-cloud": {},
  "kernelspec": {
   "display_name": "Python [conda root]",
   "language": "python",
   "name": "conda-root-py"
  },
  "language_info": {
   "codemirror_mode": {
    "name": "ipython",
    "version": 3
   },
   "file_extension": ".py",
   "mimetype": "text/x-python",
   "name": "python",
   "nbconvert_exporter": "python",
   "pygments_lexer": "ipython3",
   "version": "3.5.3"
  }
 },
 "nbformat": 4,
 "nbformat_minor": 2
}
