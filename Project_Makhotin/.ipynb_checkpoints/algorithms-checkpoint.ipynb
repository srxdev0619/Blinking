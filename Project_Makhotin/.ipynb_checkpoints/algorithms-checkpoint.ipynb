{
 "cells": [
  {
   "cell_type": "code",
   "execution_count": 66,
   "metadata": {
    "collapsed": false,
    "deletable": true,
    "editable": true
   },
   "outputs": [],
   "source": [
    "import os\n",
    "import pandas as pd\n",
    "from scipy.misc import imread\n",
    "import numpy as np\n",
    "import cv2\n",
    "from skimage.feature import hog\n",
    "import matplotlib.pyplot as plt\n",
    "%matplotlib inline\n",
    "\n",
    "def get_df_faces(directory0, directory1, preprocessing = False):\n",
    "    imgs0 = list()\n",
    "    for filename in os.listdir(directory0):\n",
    "        if filename.endswith(\".jpg\"):\n",
    "            img = cv2.imread(directory0 + filename, 0)\n",
    "            if preprocessing:\n",
    "                autocontrast(img, white_perc=0., black_perc = 0.)\n",
    "                #img = hog(img, orientations=6, pixels_per_cell=(2, 2), cells_per_block=(1, 1), visualise=False)\n",
    "                img = hog(img, orientations=8, pixels_per_cell=(4, 4), cells_per_block=(3, 3), visualise=False)\n",
    "            else:\n",
    "                img = np.reshape(img, (img.shape[0]*img.shape[1])).tolist()\n",
    "            imgs0.append(img) \n",
    "        else:\n",
    "            continue\n",
    "    imgs1 = list()\n",
    "    for filename in os.listdir(directory1):\n",
    "        if filename.endswith(\".jpg\"):\n",
    "            img = cv2.imread(directory1 + filename, 0)\n",
    "            if preprocessing:\n",
    "                autocontrast(img, white_perc=0., black_perc = 0.)\n",
    "                #img = hog(img, orientations=6, pixels_per_cell=(2, 2), cells_per_block=(1, 1), visualise=False)\n",
    "                img = hog(img, orientations=8, pixels_per_cell=(4, 4), cells_per_block=(3, 3), visualise=False)\n",
    "            else:\n",
    "                img = np.reshape(img, (img.shape[0]*img.shape[1])).tolist()\n",
    "            imgs1.append(img) \n",
    "        else:\n",
    "            continue\n",
    "    Y_closed = np.full((1, len(imgs0)), 0)\n",
    "    Y_opened = np.full((1, len(imgs1)), 1)\n",
    "    return np.array(imgs0 + imgs1, dtype=np.float32), np.hstack((Y_closed, Y_opened))"
   ]
  },
  {
   "cell_type": "code",
   "execution_count": 67,
   "metadata": {
    "collapsed": true,
    "deletable": true,
    "editable": true
   },
   "outputs": [],
   "source": [
    "from operator import itemgetter\n",
    "def autocontrast(image, white_perc=0.2, black_perc = 0.2):\n",
    "    img = image\n",
    "    sorted_img = sorted(np.ndenumerate(img), key=itemgetter(1))\n",
    "    pixels_number = len(sorted_img)\n",
    "    black_border = float(black_perc)*pixels_number\n",
    "    white_border = float(white_perc)*pixels_number\n",
    "    for e in enumerate(sorted_img):\n",
    "        if (int(round(black_border)) <= e[0] and \n",
    "           (e[0] == 0 or e[0] == pixels_number - 1 or img[e[1][0]] != sorted_img[e[0] + 1][1])):\n",
    "            black_threshold_number = e[0]\n",
    "            break\n",
    "        else:\n",
    "            img[e[1][0]] = 0\n",
    "\n",
    "    reversed_sorted_img = list(reversed(sorted_img))\n",
    "    for e in enumerate(reversed_sorted_img):\n",
    "        if (int(round(white_border)) <= e[0] and \n",
    "           (e[0] == 0 or e[0] == pixels_number - 1 or img[e[1][0]] != reversed_sorted_img[e[0] + 1][1])):\n",
    "            white_threshold_number = pixels_number - e[0] - 1\n",
    "            break\n",
    "        else:\n",
    "            img[e[1][0]] = 255\n",
    "\n",
    "    black_threshold = sorted_img[black_threshold_number][1]\n",
    "    white_threshold = sorted_img[white_threshold_number][1]\n",
    "\n",
    "    for e in enumerate(sorted_img[black_threshold_number : white_threshold_number + 1]):\n",
    "        img[e[1][0]] = (img[e[1][0]] - black_threshold)*255 / float(white_threshold - black_threshold)\n",
    "\n",
    "    return img\n"
   ]
  },
  {
   "cell_type": "code",
   "execution_count": 68,
   "metadata": {
    "collapsed": false,
    "deletable": true,
    "editable": true
   },
   "outputs": [],
   "source": [
    "X, Y = get_df_faces(\"dataset_B_FacialImages/ClosedFace/\", \"dataset_B_FacialImages/OpenFace/\", True)"
   ]
  },
  {
   "cell_type": "markdown",
   "metadata": {
    "deletable": true,
    "editable": true
   },
   "source": [
    "# Faces dataset score"
   ]
  },
  {
   "cell_type": "code",
   "execution_count": 69,
   "metadata": {
    "collapsed": false,
    "deletable": true,
    "editable": true
   },
   "outputs": [
    {
     "name": "stdout",
     "output_type": "stream",
     "text": [
      "Fitting 5 folds for each of 12 candidates, totalling 60 fits\n"
     ]
    },
    {
     "name": "stderr",
     "output_type": "stream",
     "text": [
      "[Parallel(n_jobs=-1)]: Done  34 tasks      | elapsed:  4.6min\n",
      "[Parallel(n_jobs=-1)]: Done  60 out of  60 | elapsed:  7.5min finished\n"
     ]
    },
    {
     "name": "stdout",
     "output_type": "stream",
     "text": [
      "('accuracy: ', 0.88815517952950884)\n",
      "{'penalty': 'l2', 'C': 1}\n"
     ]
    }
   ],
   "source": [
    "from sklearn.linear_model import LogisticRegression\n",
    "from sklearn.model_selection import GridSearchCV\n",
    "#0. 0. hog\n",
    "clf = LogisticRegression()\n",
    "params = {'C' : [0.001, 0.01, 0.1, 1, 10, 100], 'penalty' : ['l1', 'l2']}\n",
    "gs = GridSearchCV(clf, param_grid=params, scoring='accuracy', n_jobs=-1, cv=5, verbose=1)\n",
    "gs.fit(X,*Y)\n",
    "print(\"accuracy: \", gs.best_score_)\n",
    "print(gs.best_params_)"
   ]
  },
  {
   "cell_type": "code",
   "execution_count": 14,
   "metadata": {
    "collapsed": false,
    "deletable": true,
    "editable": true
   },
   "outputs": [
    {
     "name": "stdout",
     "output_type": "stream",
     "text": [
      "Fitting 5 folds for each of 3 candidates, totalling 15 fits\n"
     ]
    },
    {
     "name": "stderr",
     "output_type": "stream",
     "text": [
      "[Parallel(n_jobs=-1)]: Done  15 out of  15 | elapsed:   38.1s finished\n"
     ]
    },
    {
     "name": "stdout",
     "output_type": "stream",
     "text": [
      "('accuracy: ', 0.83450268262484528)\n",
      "{'n_estimators': 250}\n"
     ]
    }
   ],
   "source": [
    "from sklearn.ensemble import RandomForestClassifier\n",
    "clf = RandomForestClassifier()\n",
    "params = {'n_estimators' : [100, 150, 250, 300]}\n",
    "gs = GridSearchCV(clf, param_grid=params, scoring='accuracy', n_jobs=-1, cv=5, verbose=1)\n",
    "gs.fit(X,*Y)\n",
    "print(\"accuracy: \", gs.best_score_)\n",
    "print(gs.best_params_)"
   ]
  },
  {
   "cell_type": "code",
   "execution_count": 18,
   "metadata": {
    "collapsed": false,
    "deletable": true,
    "editable": true
   },
   "outputs": [
    {
     "name": "stdout",
     "output_type": "stream",
     "text": [
      "Fitting 5 folds for each of 1 candidates, totalling 5 fits\n"
     ]
    },
    {
     "name": "stderr",
     "output_type": "stream",
     "text": [
      "[Parallel(n_jobs=-1)]: Done   2 out of   5 | elapsed:  4.4min remaining:  6.5min\n",
      "[Parallel(n_jobs=-1)]: Done   5 out of   5 | elapsed:  4.4min finished\n"
     ]
    },
    {
     "name": "stdout",
     "output_type": "stream",
     "text": [
      "('accuracy: ', 0.78992983904250924)\n",
      "{'n_estimators': 150}\n"
     ]
    }
   ],
   "source": [
    "from sklearn.ensemble import AdaBoostClassifier\n",
    "clf = AdaBoostClassifier()\n",
    "params = {'n_estimators' : [10, 30, 50, 100, 150]}\n",
    "gs = GridSearchCV(clf, param_grid=params, scoring='accuracy', n_jobs=-1, cv=5, verbose=1)\n",
    "gs.fit(X,*Y)\n",
    "print(\"accuracy: \", gs.best_score_)\n",
    "print(gs.best_params_)"
   ]
  },
  {
   "cell_type": "code",
   "execution_count": 40,
   "metadata": {
    "collapsed": false,
    "deletable": true,
    "editable": true
   },
   "outputs": [
    {
     "name": "stdout",
     "output_type": "stream",
     "text": [
      "(2423, 1000)\n"
     ]
    }
   ],
   "source": [
    "from sklearn.decomposition import PCA\n",
    "pca = PCA(n_components=1000, svd_solver='randomized').fit(X)\n",
    "X_pca = pca.transform(X)\n",
    "print(X_pca.shape)"
   ]
  },
  {
   "cell_type": "code",
   "execution_count": 41,
   "metadata": {
    "collapsed": false,
    "deletable": true,
    "editable": true
   },
   "outputs": [
    {
     "name": "stdout",
     "output_type": "stream",
     "text": [
      "Fitting 3 folds for each of 16 candidates, totalling 48 fits\n"
     ]
    },
    {
     "name": "stderr",
     "output_type": "stream",
     "text": [
      "[Parallel(n_jobs=-1)]: Done  48 out of  48 | elapsed: 13.0min finished\n"
     ]
    },
    {
     "name": "stdout",
     "output_type": "stream",
     "text": [
      "('accuracy: ', 0.81923235658274862)\n",
      "{'n_estimators': 800}\n"
     ]
    }
   ],
   "source": [
    "from xgboost import XGBClassifier\n",
    "clf = XGBClassifier()\n",
    "params = {'n_estimators' : np.arange(200, 1000, 50)}\n",
    "gs = GridSearchCV(clf, param_grid=params, scoring='accuracy', n_jobs=-1, cv=3, verbose=1)\n",
    "gs.fit(X_pca,*Y)\n",
    "print(\"accuracy: \", gs.best_score_)\n",
    "print(gs.best_params_)"
   ]
  },
  {
   "cell_type": "markdown",
   "metadata": {
    "deletable": true,
    "editable": true
   },
   "source": [
    "# Eye detection"
   ]
  },
  {
   "cell_type": "code",
   "execution_count": 44,
   "metadata": {
    "collapsed": true,
    "deletable": true,
    "editable": true
   },
   "outputs": [],
   "source": [
    "\n",
    "face_cascade = cv2.CascadeClassifier('haarcascade_frontalface_default.xml')\n",
    "eyes_cascade = cv2.CascadeClassifier('haarcascade_eye.xml')"
   ]
  },
  {
   "cell_type": "code",
   "execution_count": null,
   "metadata": {
    "collapsed": false,
    "deletable": true,
    "editable": true
   },
   "outputs": [],
   "source": [
    "img = X[500].astype(np.uint8)\n",
    "gray = img#cv2.cvtColor(img, cv2.COLOR_BGR2GRAY)\n",
    "eyes = eyes_cascade.detectMultiScale(gray, 1.3, 5)\n",
    "\n",
    "for (x,y,w,h) in eyes:\n",
    "    cv2.rectangle(img,(x,y),(x+w,y+h),(255,0,0),2)\n",
    "\n",
    "plt.imshow(img)"
   ]
  },
  {
   "cell_type": "code",
   "execution_count": 46,
   "metadata": {
    "collapsed": true,
    "deletable": true,
    "editable": true
   },
   "outputs": [],
   "source": [
    "cv2.imshow?"
   ]
  },
  {
   "cell_type": "markdown",
   "metadata": {
    "deletable": true,
    "editable": true
   },
   "source": [
    "# Wavelet transform(reduction)"
   ]
  },
  {
   "cell_type": "code",
   "execution_count": 2,
   "metadata": {
    "collapsed": false,
    "deletable": true,
    "editable": true
   },
   "outputs": [],
   "source": [
    "import pywt"
   ]
  },
  {
   "cell_type": "code",
   "execution_count": 105,
   "metadata": {
    "collapsed": true,
    "deletable": true,
    "editable": true
   },
   "outputs": [],
   "source": [
    "def get_df_faces_wt(directory0, directory1):\n",
    "    imgs0 = list()\n",
    "    for filename in os.listdir(directory0):\n",
    "        if filename.endswith(\".jpg\"):\n",
    "            img = cv2.imread(directory0 + filename, 0)\n",
    "            dwt = pywt.dwt2(img, 'haar')\n",
    "            img = np.array(dwt[0] + dwt[1][0] + dwt[1][1] + dwt[1][2])\n",
    "            img = dwt[1][1]\n",
    "            img = hog(img, orientations=8, pixels_per_cell=(4, 4), cells_per_block=(2, 2), visualise=False)\n",
    "            #img = np.reshape(img, (img.shape[0]*img.shape[1])).tolist()\n",
    "            imgs0.append(img) \n",
    "        else:\n",
    "            continue\n",
    "    imgs1 = list()\n",
    "    for filename in os.listdir(directory1):\n",
    "        if filename.endswith(\".jpg\"):\n",
    "            img = cv2.imread(directory1 + filename, 0)\n",
    "            dwt = pywt.dwt2(img, 'haar')\n",
    "            img = np.array(dwt[0] + dwt[1][0] + dwt[1][1] + dwt[1][2])\n",
    "            img = dwt[1][1]\n",
    "            img = hog(img, orientations=8, pixels_per_cell=(4, 4), cells_per_block=(2, 2), visualise=False)\n",
    "            #img = np.reshape(img, (img.shape[0]*img.shape[1])).tolist()\n",
    "            imgs1.append(img)\n",
    "        else:\n",
    "            continue\n",
    "    Y_closed = np.full((1, len(imgs0)), 0)\n",
    "    Y_opened = np.full((1, len(imgs1)), 1)\n",
    "    return np.array(imgs0 + imgs1, dtype=np.float32), np.hstack((Y_closed, Y_opened))"
   ]
  },
  {
   "cell_type": "code",
   "execution_count": 104,
   "metadata": {
    "collapsed": false,
    "deletable": true,
    "editable": true
   },
   "outputs": [
    {
     "ename": "ValueError",
     "evalue": "setting an array element with a sequence.",
     "output_type": "error",
     "traceback": [
      "\u001b[0;31m---------------------------------------------------------------------------\u001b[0m",
      "\u001b[0;31mValueError\u001b[0m                                Traceback (most recent call last)",
      "\u001b[0;32m<ipython-input-104-3af7aa9c908a>\u001b[0m in \u001b[0;36m<module>\u001b[0;34m()\u001b[0m\n\u001b[0;32m----> 1\u001b[0;31m \u001b[0mX\u001b[0m\u001b[0;34m,\u001b[0m \u001b[0mY\u001b[0m \u001b[0;34m=\u001b[0m \u001b[0mget_df_faces_wt\u001b[0m\u001b[0;34m(\u001b[0m\u001b[0;34m\"dataset_B_FacialImages/ClosedFace/\"\u001b[0m\u001b[0;34m,\u001b[0m \u001b[0;34m\"dataset_B_FacialImages/OpenFace/\"\u001b[0m\u001b[0;34m)\u001b[0m\u001b[0;34m\u001b[0m\u001b[0m\n\u001b[0m",
      "\u001b[0;32m<ipython-input-103-0a50320c0042>\u001b[0m in \u001b[0;36mget_df_faces_wt\u001b[0;34m(directory0, directory1, preprocessing)\u001b[0m\n\u001b[1;32m     26\u001b[0m     \u001b[0mY_closed\u001b[0m \u001b[0;34m=\u001b[0m \u001b[0mnp\u001b[0m\u001b[0;34m.\u001b[0m\u001b[0mfull\u001b[0m\u001b[0;34m(\u001b[0m\u001b[0;34m(\u001b[0m\u001b[0;36m1\u001b[0m\u001b[0;34m,\u001b[0m \u001b[0mlen\u001b[0m\u001b[0;34m(\u001b[0m\u001b[0mimgs0\u001b[0m\u001b[0;34m)\u001b[0m\u001b[0;34m)\u001b[0m\u001b[0;34m,\u001b[0m \u001b[0;36m0\u001b[0m\u001b[0;34m)\u001b[0m\u001b[0;34m\u001b[0m\u001b[0m\n\u001b[1;32m     27\u001b[0m     \u001b[0mY_opened\u001b[0m \u001b[0;34m=\u001b[0m \u001b[0mnp\u001b[0m\u001b[0;34m.\u001b[0m\u001b[0mfull\u001b[0m\u001b[0;34m(\u001b[0m\u001b[0;34m(\u001b[0m\u001b[0;36m1\u001b[0m\u001b[0;34m,\u001b[0m \u001b[0mlen\u001b[0m\u001b[0;34m(\u001b[0m\u001b[0mimgs1\u001b[0m\u001b[0;34m)\u001b[0m\u001b[0;34m)\u001b[0m\u001b[0;34m,\u001b[0m \u001b[0;36m1\u001b[0m\u001b[0;34m)\u001b[0m\u001b[0;34m\u001b[0m\u001b[0m\n\u001b[0;32m---> 28\u001b[0;31m     \u001b[0;32mreturn\u001b[0m \u001b[0mnp\u001b[0m\u001b[0;34m.\u001b[0m\u001b[0marray\u001b[0m\u001b[0;34m(\u001b[0m\u001b[0mimgs0\u001b[0m \u001b[0;34m+\u001b[0m \u001b[0mimgs1\u001b[0m\u001b[0;34m,\u001b[0m \u001b[0mdtype\u001b[0m\u001b[0;34m=\u001b[0m\u001b[0mnp\u001b[0m\u001b[0;34m.\u001b[0m\u001b[0mfloat32\u001b[0m\u001b[0;34m)\u001b[0m\u001b[0;34m,\u001b[0m \u001b[0mnp\u001b[0m\u001b[0;34m.\u001b[0m\u001b[0mhstack\u001b[0m\u001b[0;34m(\u001b[0m\u001b[0;34m(\u001b[0m\u001b[0mY_closed\u001b[0m\u001b[0;34m,\u001b[0m \u001b[0mY_opened\u001b[0m\u001b[0;34m)\u001b[0m\u001b[0;34m)\u001b[0m\u001b[0;34m\u001b[0m\u001b[0m\n\u001b[0m",
      "\u001b[0;31mValueError\u001b[0m: setting an array element with a sequence."
     ]
    }
   ],
   "source": [
    "X, Y = get_df_faces_wt(\"dataset_B_FacialImages/ClosedFace/\", \"dataset_B_FacialImages/OpenFace/\")"
   ]
  },
  {
   "cell_type": "code",
   "execution_count": null,
   "metadata": {
    "collapsed": true,
    "deletable": true,
    "editable": true
   },
   "outputs": [],
   "source": [
    "hog"
   ]
  },
  {
   "cell_type": "code",
   "execution_count": 56,
   "metadata": {
    "collapsed": false,
    "deletable": true,
    "editable": true
   },
   "outputs": [
    {
     "name": "stdout",
     "output_type": "stream",
     "text": [
      "Fitting 10 folds for each of 8 candidates, totalling 80 fits\n"
     ]
    },
    {
     "name": "stderr",
     "output_type": "stream",
     "text": [
      "[Parallel(n_jobs=-1)]: Done  34 tasks      | elapsed:    5.1s\n",
      "[Parallel(n_jobs=-1)]: Done  80 out of  80 | elapsed:   17.6s finished\n"
     ]
    },
    {
     "name": "stdout",
     "output_type": "stream",
     "text": [
      "('accuracy: ', 0.87247214197276102)\n",
      "{'penalty': 'l2', 'C': 1.0}\n"
     ]
    }
   ],
   "source": [
    "from sklearn.linear_model import LogisticRegression\n",
    "from sklearn.model_selection import GridSearchCV\n",
    "clf = LogisticRegression()\n",
    "params = {'C' : [0.001, 0.01, 0.1, 1.], 'penalty' : ['l1', 'l2']}\n",
    "gs = GridSearchCV(clf, param_grid=params, scoring='accuracy', n_jobs=-1, cv=10, verbose=1)\n",
    "gs.fit(X,*Y)\n",
    "print(\"accuracy: \", gs.best_score_)\n",
    "print(gs.best_params_)"
   ]
  },
  {
   "cell_type": "code",
   "execution_count": 55,
   "metadata": {
    "collapsed": false,
    "deletable": true,
    "editable": true
   },
   "outputs": [
    {
     "data": {
      "text/plain": [
       "(3872,)"
      ]
     },
     "execution_count": 55,
     "metadata": {},
     "output_type": "execute_result"
    }
   ],
   "source": [
    "X[0].shape"
   ]
  },
  {
   "cell_type": "code",
   "execution_count": 42,
   "metadata": {
    "collapsed": false,
    "deletable": true,
    "editable": true
   },
   "outputs": [
    {
     "data": {
      "text/plain": [
       "<matplotlib.image.AxesImage at 0x7f266c933690>"
      ]
     },
     "execution_count": 42,
     "metadata": {},
     "output_type": "execute_result"
    },
    {
     "data": {
      "image/png": "[encoded data removed]",
      "text/plain": [
       "<matplotlib.figure.Figure at 0x7f267c37b410>"
      ]
     },
     "metadata": {},
     "output_type": "display_data"
    }
   ],
   "source": [
    "i = 444\n",
    "plt.imshow(np.reshape(X[i], (50, 50)), cmap=\"gray\")"
   ]
  },
  {
   "cell_type": "code",
   "execution_count": null,
   "metadata": {
    "collapsed": true,
    "deletable": true,
    "editable": true
   },
   "outputs": [],
   "source": [
    "dwt = pywt.dwt2(img, 'haar')\n",
    "img = np.array(dwt[0] + dwt[1][0] + dwt[1][1] + dwt[1][2])"
   ]
  },
  {
   "cell_type": "code",
   "execution_count": 55,
   "metadata": {
    "collapsed": false,
    "deletable": true,
    "editable": true
   },
   "outputs": [
    {
     "data": {
      "text/plain": [
       "<matplotlib.image.AxesImage at 0x7f8402b64470>"
      ]
     },
     "execution_count": 55,
     "metadata": {},
     "output_type": "execute_result"
    },
    {
     "data": {
      "image/png": "[encoded data removed]",
      "text/plain": [
       "<matplotlib.figure.Figure at 0x7f8402b9f048>"
      ]
     },
     "metadata": {},
     "output_type": "display_data"
    }
   ],
   "source": [
    "n = 12\n",
    "shrinked_coeff = (coeffs[0][:n,:n],(coeffs[1][0][:n,:n], coeffs[1][1][:n,:n], coeffs[1][2][:n,:n]))\n",
    "plt.imshow(pywt.idwt2(shrinked_coeff , 'haar'), cmap=\"gray\")"
   ]
  },
  {
   "cell_type": "code",
   "execution_count": null,
   "metadata": {
    "collapsed": true,
    "deletable": true,
    "editable": true
   },
   "outputs": [],
   "source": [
    "cv2."
   ]
  }
 ],
 "metadata": {
  "anaconda-cloud": {},
  "kernelspec": {
   "display_name": "Python 2",
   "language": "python",
   "name": "python2"
  },
  "language_info": {
   "codemirror_mode": {
    "name": "ipython",
    "version": 2
   },
   "file_extension": ".py",
   "mimetype": "text/x-python",
   "name": "python",
   "nbconvert_exporter": "python",
   "pygments_lexer": "ipython2",
   "version": "2.7.12"
  }
 },
 "nbformat": 4,
 "nbformat_minor": 1
}
