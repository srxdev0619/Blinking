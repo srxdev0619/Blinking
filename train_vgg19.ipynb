{
 "cells": [
  {
   "cell_type": "code",
   "execution_count": 1,
   "metadata": {
    "collapsed": false
   },
   "outputs": [],
   "source": [
    "from __future__ import absolute_import\n",
    "from __future__ import division\n",
    "from __future__ import print_function\n",
    "\n",
    "import numpy as np\n",
    "import scipy\n",
    "import scipy.misc\n",
    "import os,sys,time,random,glob,pickle\n",
    "#import theano.sandbox.cuda\n",
    "#theano.sandbox.cuda.use('gpu0')\n",
    "import theano\n",
    "import theano.tensor as T\n",
    "from lasagne.layers import Conv2DLayer, MaxPool2DLayer, ExpressionLayer, DenseLayer, InputLayer\n",
    "from lasagne.layers import batch_norm\n",
    "from lasagne.nonlinearities import rectify, softmax, sigmoid, linear, LeakyRectify\n",
    "from lasagne.utils import floatX\n",
    "import lasagne\n",
    "import random\n",
    "#import seaborn as sns\n",
    "\n",
    "import cnn_vgg19 as cnn"
   ]
  },
  {
   "cell_type": "code",
   "execution_count": 2,
   "metadata": {
    "collapsed": false
   },
   "outputs": [],
   "source": [
    "import scipy.misc\n",
    "\n",
    "class Batch:\n",
    "    def __init__(self, trainingFiles, testingFiles):\n",
    "        open_train, close_train = trainingFiles\n",
    "        open_test, close_test = testingFiles\n",
    "        self.open_train = [line.replace('\\n', '') for line in open(open_train, 'r')]\n",
    "        self.close_train = [line.replace('\\n', '') for line in open(close_train, 'r')]\n",
    "        \n",
    "        self.open_train_num = int(0.9*len(self.open_train))\n",
    "        self.close_train_num = int(0.9*len(self.close_train))\n",
    "        \n",
    "        self.open_train_lst = self.open_train[:self.open_train_num]\n",
    "        self.close_train_lst = self.close_train[:self.close_train_num]\n",
    "        \n",
    "        self.open_val = self.open_train[self.open_train_num:]\n",
    "        self.close_val = self.close_train[self.close_train_num:]\n",
    "        \n",
    "        self.open_test_lst = [line.replace('\\n', '') for line in open(open_test, 'r')]\n",
    "        self.close_test_lst = [line.replace('\\n', '') for line in open(close_test, 'r')]\n",
    "        self.train_open_counter = 0\n",
    "        self.train_close_counter = 0\n",
    "        self.test_open_counter = 0\n",
    "        \n",
    "    def _image_augment(self, img):\n",
    "        rand_num = np.random.rand()\n",
    "        if rand_num < 0.5:\n",
    "            img = np.flipud(img)\n",
    "        else:\n",
    "            img = np.fliplr(img)\n",
    "        return img\n",
    "        \n",
    "    def _read_files(self, files, mode='train'):\n",
    "        batch_size = len(files)\n",
    "        imgs = np.zeros((batch_size, 3, 100, 100))\n",
    "        for f in range(batch_size):\n",
    "            img_f = files[f]\n",
    "            img = scipy.misc.imread(img_f)/255.0\n",
    "            if img.shape[-1] == 4:#some png's have alpha channel\n",
    "                img = img[:,:,:3]\n",
    "            #img = scipy.misc.imresize(img, (100, 100))\n",
    "            if mode == 'train':\n",
    "                if np.random.rand() > 0.5:\n",
    "                    imgs[f,:,:,:] = self._image_augment(img.transpose([2, 0, 1]))\n",
    "                else:\n",
    "                    imgs[f,:,:,:] = img.transpose([2, 0, 1])\n",
    "            else:\n",
    "                imgs[f,:,:,:] = img.transpose([2, 0, 1])\n",
    "        return imgs\n",
    "        \n",
    "        \n",
    "    def _sample_open_train(self, batch_size):\n",
    "        target_open = np.ones(batch_size)\n",
    "        #target_open[:,0] = 1.0\n",
    "        if self.train_open_counter + batch_size >= len(self.open_train_lst):\n",
    "            files = self.open_train_lst[self.train_open_counter:len(self.open_train_lst)]\n",
    "            diff = self.train_open_counter + batch_size - len(self.open_train_lst)\n",
    "            files = files + self.open_train_lst[:diff]\n",
    "            self.train_open_counter = diff\n",
    "        else:\n",
    "            files = self.open_train_lst[self.train_open_counter:self.train_open_counter + batch_size]\n",
    "            self.train_open_counter += batch_size\n",
    "            \n",
    "        imgs = self._read_files(files)\n",
    "        return imgs, target_open\n",
    "    \n",
    "    def _sample_close_train(self, batch_size):\n",
    "        target_close = np.zeros(batch_size)\n",
    "        #target_close[:,1] = 1.0\n",
    "        if self.train_close_counter + batch_size >= len(self.close_train_lst):\n",
    "            files = self.close_train_lst[self.train_close_counter:len(self.close_train_lst)]\n",
    "            diff = self.train_close_counter + batch_size - len(self.close_train_lst)\n",
    "            files = files + self.close_train_lst[:diff]\n",
    "            self.train_close_counter = diff\n",
    "        else:\n",
    "            files = self.close_train_lst[self.train_close_counter:self.train_close_counter + batch_size]\n",
    "            self.train_close_counter += batch_size\n",
    "            \n",
    "        imgs = self._read_files(files)\n",
    "        return imgs, target_close\n",
    "    \n",
    "    def sample_train_batch(self, batch_size):\n",
    "        imgs_open, targets_open = self._sample_open_train(int(batch_size/2))\n",
    "        imgs_close, targets_close = self._sample_close_train(int(batch_size/2))\n",
    "        imgs = np.concatenate((imgs_open, imgs_close))\n",
    "        targets = np.concatenate((targets_open, targets_close))\n",
    "        return imgs.astype(np.float32), targets.astype(np.float32)\n",
    "    \n",
    "    def get_val_set(self, batch_size):\n",
    "        \n",
    "        open_imgs = self._read_files(self.open_val[:batch_size])\n",
    "        close_imgs = self._read_files(self.close_val[:batch_size])\n",
    "        num_open_val = len(self.open_val)\n",
    "        num_close_val = len(self.close_val)\n",
    "        open_target = np.ones(batch_size)\n",
    "        close_target = np.zeros(batch_size)\n",
    "        #open_target[:,0] = 1.0\n",
    "        #close_target[:,1] = 1.0\n",
    "        imgs = np.concatenate((close_imgs, open_imgs))\n",
    "        targets = np.concatenate((close_target, open_target))\n",
    "        return imgs.astype(np.float32), targets.astype(np.float32)\n",
    "    \n",
    "        \n",
    "        "
   ]
  },
  {
   "cell_type": "code",
   "execution_count": 3,
   "metadata": {
    "collapsed": false
   },
   "outputs": [],
   "source": [
    "input_img = T.ftensor4('input_imgs')\n",
    "targets = T.vector('targets')\n",
    "lrate = theano.shared(floatX(0.0001))\n",
    "\n",
    "#net = cnn.build_vggnet(input_img)\n",
    "#net = cnn.freeze_layers(net, 'pool5')\n",
    "net = cnn.new_cnn(input_img)\n",
    "\n",
    "prediction = lasagne.layers.get_output(net['output'])\n",
    "\n",
    "#cross_entropy_loss = lasagne.objectives.aggregate(lasagne.objectives.categorical_crossentropy(prediction, targets))\n",
    "\n",
    "cross_entropy_loss = lasagne.objectives.binary_crossentropy(prediction, targets).mean()\n",
    "\n",
    "\n",
    "net_params = lasagne.layers.get_all_params(net['output'], trainable=True)\n",
    "\n",
    "updates_adam = lasagne.updates.adam(cross_entropy_loss, net_params, learning_rate=lrate)\n",
    "\n",
    "train_net = theano.function([input_img, targets], \n",
    "                            cross_entropy_loss, updates=updates_adam)\n",
    "\n",
    "prediction_det = lasagne.layers.get_output(net['output'], deterministic=True)\n",
    "\n",
    "accuracy = T.mean(lasagne.objectives.binary_accuracy(prediction_det, targets))\n",
    "\n",
    "accuracy_fn = theano.function([input_img, targets], accuracy)\n",
    "\n",
    "out_fn = theano.function([input_img], prediction_det)"
   ]
  },
  {
   "cell_type": "code",
   "execution_count": 21,
   "metadata": {
    "collapsed": false
   },
   "outputs": [
    {
     "ename": "KeyboardInterrupt",
     "evalue": "",
     "output_type": "error",
     "traceback": [
      "\u001b[0;31m---------------------------------------------------------------------------\u001b[0m",
      "\u001b[0;31mKeyboardInterrupt\u001b[0m                         Traceback (most recent call last)",
      "\u001b[0;32m<ipython-input-21-6334501032c3>\u001b[0m in \u001b[0;36m<module>\u001b[0;34m()\u001b[0m\n\u001b[1;32m     14\u001b[0m     \u001b[0;32mfor\u001b[0m \u001b[0mj\u001b[0m \u001b[0;32min\u001b[0m \u001b[0mrange\u001b[0m\u001b[0;34m(\u001b[0m\u001b[0;36m10\u001b[0m\u001b[0;34m)\u001b[0m\u001b[0;34m:\u001b[0m\u001b[0;34m\u001b[0m\u001b[0m\n\u001b[1;32m     15\u001b[0m         \u001b[0mimgs\u001b[0m\u001b[0;34m,\u001b[0m \u001b[0mimg_targets\u001b[0m \u001b[0;34m=\u001b[0m \u001b[0mbatch\u001b[0m\u001b[0;34m.\u001b[0m\u001b[0msample_train_batch\u001b[0m\u001b[0;34m(\u001b[0m\u001b[0;36m10\u001b[0m\u001b[0;34m)\u001b[0m\u001b[0;34m\u001b[0m\u001b[0m\n\u001b[0;32m---> 16\u001b[0;31m         \u001b[0mloss\u001b[0m \u001b[0;34m=\u001b[0m \u001b[0mtrain_net\u001b[0m\u001b[0;34m(\u001b[0m\u001b[0mimgs\u001b[0m\u001b[0;34m,\u001b[0m \u001b[0mimg_targets\u001b[0m\u001b[0;34m)\u001b[0m\u001b[0;34m\u001b[0m\u001b[0m\n\u001b[0m\u001b[1;32m     17\u001b[0m     \u001b[0mval_img\u001b[0m\u001b[0;34m,\u001b[0m \u001b[0mval_target\u001b[0m \u001b[0;34m=\u001b[0m \u001b[0mbatch\u001b[0m\u001b[0;34m.\u001b[0m\u001b[0mget_val_set\u001b[0m\u001b[0;34m(\u001b[0m\u001b[0;36m5\u001b[0m\u001b[0;34m)\u001b[0m\u001b[0;34m\u001b[0m\u001b[0m\n\u001b[1;32m     18\u001b[0m     \u001b[0macc\u001b[0m \u001b[0;34m=\u001b[0m \u001b[0maccuracy_fn\u001b[0m\u001b[0;34m(\u001b[0m\u001b[0mval_img\u001b[0m\u001b[0;34m,\u001b[0m \u001b[0mval_target\u001b[0m\u001b[0;34m)\u001b[0m\u001b[0;34m\u001b[0m\u001b[0m\n",
      "\u001b[0;32m//anaconda/envs/Python2/lib/python2.7/site-packages/theano/compile/function_module.pyc\u001b[0m in \u001b[0;36m__call__\u001b[0;34m(self, *args, **kwargs)\u001b[0m\n\u001b[1;32m    871\u001b[0m         \u001b[0;32mtry\u001b[0m\u001b[0;34m:\u001b[0m\u001b[0;34m\u001b[0m\u001b[0m\n\u001b[1;32m    872\u001b[0m             \u001b[0moutputs\u001b[0m \u001b[0;34m=\u001b[0m\u001b[0;31m\\\u001b[0m\u001b[0;34m\u001b[0m\u001b[0m\n\u001b[0;32m--> 873\u001b[0;31m                 \u001b[0mself\u001b[0m\u001b[0;34m.\u001b[0m\u001b[0mfn\u001b[0m\u001b[0;34m(\u001b[0m\u001b[0;34m)\u001b[0m \u001b[0;32mif\u001b[0m \u001b[0moutput_subset\u001b[0m \u001b[0;32mis\u001b[0m \u001b[0mNone\u001b[0m \u001b[0;32melse\u001b[0m\u001b[0;31m\\\u001b[0m\u001b[0;34m\u001b[0m\u001b[0m\n\u001b[0m\u001b[1;32m    874\u001b[0m                 \u001b[0mself\u001b[0m\u001b[0;34m.\u001b[0m\u001b[0mfn\u001b[0m\u001b[0;34m(\u001b[0m\u001b[0moutput_subset\u001b[0m\u001b[0;34m=\u001b[0m\u001b[0moutput_subset\u001b[0m\u001b[0;34m)\u001b[0m\u001b[0;34m\u001b[0m\u001b[0m\n\u001b[1;32m    875\u001b[0m         \u001b[0;32mexcept\u001b[0m \u001b[0mException\u001b[0m\u001b[0;34m:\u001b[0m\u001b[0;34m\u001b[0m\u001b[0m\n",
      "\u001b[0;31mKeyboardInterrupt\u001b[0m: "
     ]
    },
    {
     "data": {
      "image/png": "[encoded data removed]",
      "text/plain": [
       "<matplotlib.figure.Figure at 0x114dc0d90>"
      ]
     },
     "metadata": {},
     "output_type": "display_data"
    }
   ],
   "source": [
    "import matplotlib.pyplot as plt\n",
    "from IPython import display\n",
    "%matplotlib inline\n",
    "\n",
    "epochs = 1000\n",
    "\n",
    "trainingFiles = ('./open_train.txt', './close_train.txt')\n",
    "testFiles = ('./open_test.txt', './close_test.txt')\n",
    "\n",
    "batch = Batch(trainingFiles, testFiles)\n",
    "accuracies = []\n",
    "losses = []\n",
    "for epoch in range(epochs):\n",
    "    for j in range(10):\n",
    "        imgs, img_targets = batch.sample_train_batch(10)\n",
    "        loss = train_net(imgs, img_targets)\n",
    "    val_img, val_target = batch.get_val_set(5)\n",
    "    acc = accuracy_fn(val_img, val_target)\n",
    "    accuracies.append(acc)\n",
    "    losses.append(loss)\n",
    "    plt.plot(accuracies, 'ro-')\n",
    "    display.display(plt.gcf())\n",
    "    display.clear_output(wait=True)"
   ]
  },
  {
   "cell_type": "code",
   "execution_count": null,
   "metadata": {
    "collapsed": false
   },
   "outputs": [],
   "source": [
    "accuracies"
   ]
  },
  {
   "cell_type": "code",
   "execution_count": 18,
   "metadata": {
    "collapsed": false
   },
   "outputs": [],
   "source": [
    "out\n",
    "img_f = 'dataset_B_FacialImages/OpenFace/Pascal_Affi_Nguessan_0001.jpg'\n",
    "img = scipy.misc.imread(img_f)/255.0\n",
    "img_t = np.expand_dims(img.transpose([2,0,1]), 0)"
   ]
  },
  {
   "cell_type": "code",
   "execution_count": 19,
   "metadata": {
    "collapsed": false
   },
   "outputs": [],
   "source": [
    "layer_out = lasagne.layers.get_output(net['output']).eval({input_img:img_t.astype(np.float32)})"
   ]
  },
  {
   "cell_type": "code",
   "execution_count": 20,
   "metadata": {
    "collapsed": false
   },
   "outputs": [
    {
     "data": {
      "text/plain": [
       "array([[ 0.69104332]], dtype=float32)"
      ]
     },
     "execution_count": 20,
     "metadata": {},
     "output_type": "execute_result"
    }
   ],
   "source": [
    "layer_out"
   ]
  },
  {
   "cell_type": "code",
   "execution_count": null,
   "metadata": {
    "collapsed": true
   },
   "outputs": [],
   "source": []
  }
 ],
 "metadata": {
  "anaconda-cloud": {},
  "kernelspec": {
   "display_name": "Python [conda env:Python2]",
   "language": "python",
   "name": "conda-env-Python2-py"
  },
  "language_info": {
   "codemirror_mode": {
    "name": "ipython",
    "version": 2
   },
   "file_extension": ".py",
   "mimetype": "text/x-python",
   "name": "python",
   "nbconvert_exporter": "python",
   "pygments_lexer": "ipython2",
   "version": "2.7.13"
  }
 },
 "nbformat": 4,
 "nbformat_minor": 1
}
